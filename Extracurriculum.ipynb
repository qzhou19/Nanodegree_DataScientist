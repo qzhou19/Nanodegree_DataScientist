{
 "cells": [
  {
   "cell_type": "markdown",
   "metadata": {},
   "source": [
    "## Extra Crriculum for NanoDS"
   ]
  },
  {
   "cell_type": "markdown",
   "metadata": {},
   "source": [
    "### Command Line 03-22-2020  \n",
    "\n",
    "windows - gitbash\n",
    "\n",
    "#### basic command  \n",
    "\n",
    "* echo  \n",
    "* ls -l ; cd ; pwd\n",
    "* mkdir ; mv \n",
    "* curl\n",
    "* cat ; less\n",
    "* rm ; rmdir\n",
    "* grep"
   ]
  },
  {
   "cell_type": "markdown",
   "metadata": {},
   "source": [
    "#### Examples\n",
    "\n",
    "__move all txt file to parent folder__  \n",
    "mv *.txt ..\n",
    "\n",
    "__download file__  \n",
    "curl -o google.html -L 'http://google.com'  \n",
    "\n",
    "__cat__: show file contents  \n",
    "__less__: show file content 1 page a time, __/__ to search \n",
    "\n",
    "__grep a file then count the words__  \n",
    "curl -L https://tinyurl.com/zeyq9vc | grep fish | wc -l\n",
    "curl -L https://tinyurl.com/zeyq9vc | grep fish -c"
   ]
  },
  {
   "cell_type": "markdown",
   "metadata": {},
   "source": [
    "### Git 03-22-2020\n",
    "\n",
    "* git init\n",
    "* git clone xxx\n",
    "* git status\n",
    "* git log\n",
    "* git log --oneline\n",
    "* git log --stat # showing more details\n",
    "* git log -p # showing patch code details, -w not showing space changes\n",
    "* git show # showing 1 commit a time   \n",
    "\n",
    "* git commit # use -m 'xxx' to by pass editor\n",
    "* git diff  \n",
    "\n",
    "\n",
    "#### to ignore files git tracks, create .gitignore file and put files name inside\n",
    "\n",
    "#### Tagging\n",
    "* git tag v0.1 # adding tags\n",
    "* git tag v0.1 sha123 # adding tags to previous commit using SHA\n",
    "* git tag -d v0.1 # removing tags\n",
    "\n",
    "#### Branching\n",
    "* git branch xxx # create branch xxx\n",
    "* git branch -d xxx # delete branch xxx\n",
    "* git checkout xxx # switch to xxx can use git log to checck HEAD move\n",
    "* git log --oneline --graph --all # see all branches\n",
    "\n",
    "#### Merging\n",
    "* git merge yyy # merge yyy branch to the HEAD branch\n",
    "\n",
    "#### Undoing\n",
    "* git commit --amend # modify last commit\n",
    "* git revert SHA123 # revert to an earlier commit with SHA\n",
    "\n",
    "* __git reset__ SHA123 # similar as revert but will erase the commit  \n",
    "* git reset --mixed HEAD~1 # --mixed default flag, will move most recent commit to Working directory  \n",
    "* git reset --soft HEAD~1 # move most recent to Staging index  \n",
    "* git reset --hard HEAD~1 # move most recent to Trash  \n",
    "\n",
    "\n",
    "\n",
    "#### Relative Commit Reference\n",
    "* __^__ # parent\n",
    "* __~__ # first parent  \n",
    "\n",
    "HEAD^=HEAD~=HEAD~1  #parent commit  \n",
    "HEAD^^=HEAD~2 # grandparent  \n",
    "HEAD^^^=HEAD~3 # great-grandparent\n",
    "\n",
    "HEAD^ # first parent  \n",
    "HEAD^2 # second parent of the merge\n",
    "\n",
    "#### Remote pository\n",
    "* git remote add origin urlgit # add remote repo on github  \n",
    "* git remote -v # checking added repo  \n",
    "* git push origin branchx # push branchx to remote origin  \n",
    "* git pull origin branchx # pull remote repo branchx to local, __merge__ local branches  \n",
    "* git fetch origin master # pull remote repo __without merge__\n",
    "\n",
    "#### Reviewing History\n",
    "* git shortlog  # showing commit group by author\n",
    "* git shortlog -s -n #show number of commits and author  \n",
    "* git log --author=Qian # showing author Qian's commit  \n",
    "* git log --grep=\"a bug\" # grab all commit reference \"a bug\"\n",
    "\n",
    "#### Forking\n",
    "* git remote add upstream urlgit2 # by default, urlgit2/upstream is forked to remote origin  \n",
    "* git remote rename origin mine-remote  \n",
    "* git remote rename upstream source-repo\n",
    "\n",
    "This is to sync upstream source repo with local, fetch from source repo will not impact my remote fork repo, the point is if source repo has update between my fork and my local, I can fetch source repo, merge with local, push to my remote fork, then request pull from my remote fork to source repo\n",
    "\n",
    "#### Squash commits\n",
    "* git rebase -i HEAD~3 # combine the last 3 commit into a new one, the last 3 will lose if no braches point to them (use backup before rebase), HEAD~3 is a reference, can also use SHA, branch name or tag name for reference - check inside command p/r/e/s/f/x/d\n"
   ]
  },
  {
   "cell_type": "code",
   "execution_count": null,
   "metadata": {},
   "outputs": [],
   "source": []
  }
 ],
 "metadata": {
  "kernelspec": {
   "display_name": "Python 3",
   "language": "python",
   "name": "python3"
  },
  "language_info": {
   "codemirror_mode": {
    "name": "ipython",
    "version": 3
   },
   "file_extension": ".py",
   "mimetype": "text/x-python",
   "name": "python",
   "nbconvert_exporter": "python",
   "pygments_lexer": "ipython3",
   "version": "3.7.3"
  }
 },
 "nbformat": 4,
 "nbformat_minor": 4
}
